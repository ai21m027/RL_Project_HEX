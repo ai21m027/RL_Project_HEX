{
 "cells": [
  {
   "cell_type": "markdown",
   "metadata": {},
   "source": [
    "# Implementation of hex training"
   ]
  },
  {
   "cell_type": "code",
   "execution_count": 4,
   "metadata": {},
   "outputs": [
    {
     "name": "stdout",
     "output_type": "stream",
     "text": [
      "     A   B   C   D   E   F   G   H   I\n",
      "     _   _   _   _   _   _   _   _   _\n",
      "    / \\_/ \\_/ \\_/ \\_/ \\_/ \\_/ \\_/ \\_/ \\\n",
      "   |   |   |   |   |   |   |   |   |   | 1 \n",
      "    \\_/ \\_/ \\_/ \\_/ \\_/ \\_/ \\_/ \\_/ \\_/ \\\n",
      "     |   |   |   |   |   |   |   |   |   | 2 \n",
      "      \\_/ \\_/ \\_/ \\_/ \\_/ \\_/ \\_/ \\_/ \\_/ \\\n",
      "       |   |   |   |   |   |   |   |   |   | 3 \n",
      "        \\_/ \\_/ \\_/ \\_/ \\_/ \\_/ \\_/ \\_/ \\_/ \\\n",
      "         |   |   |   |   |   |   |   |   |   | 4 \n",
      "          \\_/ \\_/ \\_/ \\_/ \\_/ \\_/ \\_/ \\_/ \\_/ \\\n",
      "           |   |   |   |   |   |   |   |   |   | 5 \n",
      "            \\_/ \\_/ \\_/ \\_/ \\_/ \\_/ \\_/ \\_/ \\_/ \\\n",
      "             |   |   |   |   |   |   |   |   |   | 6 \n",
      "              \\_/ \\_/ \\_/ \\_/ \\_/ \\_/ \\_/ \\_/ \\_/ \\\n",
      "               |   |   |   |   |   |   |   |   |   | 7 \n",
      "                \\_/ \\_/ \\_/ \\_/ \\_/ \\_/ \\_/ \\_/ \\_/ \\\n",
      "                 |   |   |   |   |   |   |   |   |   | 8 \n",
      "                  \\_/ \\_/ \\_/ \\_/ \\_/ \\_/ \\_/ \\_/ \\_/ \\\n",
      "                   |   |   |   |   |   |   |   |   |   | 9 \n",
      "                    \\_/ \\_/ \\_/ \\_/ \\_/ \\_/ \\_/ \\_/ \\_/\n",
      "                     A   B   C   D   E   F   G   H   I\n"
     ]
    }
   ],
   "source": [
    "from hex_engine import hexPosition\n",
    "\n",
    "\n",
    "myboard = hexPosition(size=9)\n",
    "\n",
    "myboard.printBoard()"
   ]
  }
 ],
 "metadata": {
  "kernelspec": {
   "display_name": "Python 3.9.9 ('venv': venv)",
   "language": "python",
   "name": "python3"
  },
  "language_info": {
   "codemirror_mode": {
    "name": "ipython",
    "version": 3
   },
   "file_extension": ".py",
   "mimetype": "text/x-python",
   "name": "python",
   "nbconvert_exporter": "python",
   "pygments_lexer": "ipython3",
   "version": "3.9.9"
  },
  "orig_nbformat": 4,
  "vscode": {
   "interpreter": {
    "hash": "fb5e83088303fa58b56ea4f3dfc5e1a2ddf15465d82f77d0dd057e18aa37930e"
   }
  }
 },
 "nbformat": 4,
 "nbformat_minor": 2
}
